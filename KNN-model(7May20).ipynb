{
 "cells": [
  {
   "cell_type": "code",
   "execution_count": 1,
   "metadata": {},
   "outputs": [],
   "source": [
    "import os\n",
    "import numpy as np\n",
    "import matplotlib.pyplot as plt\n",
    "import pandas as pd\n",
    "from sklearn.model_selection import train_test_split"
   ]
  },
  {
   "cell_type": "code",
   "execution_count": 2,
   "metadata": {},
   "outputs": [],
   "source": [
    "df = pd.read_csv(\"/home/nhi/WFH_ECU_Project(25Mar20)/Data/big_data(23April20)/project(23April20)/data_shuffle(b_m).csv\")"
   ]
  },
  {
   "cell_type": "code",
   "execution_count": 3,
   "metadata": {},
   "outputs": [
    {
     "data": {
      "text/html": [
       "<div>\n",
       "<style scoped>\n",
       "    .dataframe tbody tr th:only-of-type {\n",
       "        vertical-align: middle;\n",
       "    }\n",
       "\n",
       "    .dataframe tbody tr th {\n",
       "        vertical-align: top;\n",
       "    }\n",
       "\n",
       "    .dataframe thead th {\n",
       "        text-align: right;\n",
       "    }\n",
       "</style>\n",
       "<table border=\"1\" class=\"dataframe\">\n",
       "  <thead>\n",
       "    <tr style=\"text-align: right;\">\n",
       "      <th></th>\n",
       "      <th>labels</th>\n",
       "      <th>B_min</th>\n",
       "      <th>B_max</th>\n",
       "      <th>B_mean</th>\n",
       "      <th>B_std</th>\n",
       "      <th>B_skew</th>\n",
       "      <th>B_kurtosis</th>\n",
       "      <th>B_mode</th>\n",
       "      <th>B_entropy</th>\n",
       "      <th>B_energy</th>\n",
       "      <th>...</th>\n",
       "      <th>R_energy</th>\n",
       "      <th>h_mean</th>\n",
       "      <th>v_mean</th>\n",
       "      <th>cb_mean</th>\n",
       "      <th>cr_mean</th>\n",
       "      <th>gray_mean</th>\n",
       "      <th>contrast</th>\n",
       "      <th>correlation</th>\n",
       "      <th>energy</th>\n",
       "      <th>homogeneity</th>\n",
       "    </tr>\n",
       "  </thead>\n",
       "  <tbody>\n",
       "    <tr>\n",
       "      <th>0</th>\n",
       "      <td>0</td>\n",
       "      <td>118</td>\n",
       "      <td>255</td>\n",
       "      <td>203.558132</td>\n",
       "      <td>62.681773</td>\n",
       "      <td>-0.403019</td>\n",
       "      <td>-1.837075</td>\n",
       "      <td>255</td>\n",
       "      <td>10.799481</td>\n",
       "      <td>148.548274</td>\n",
       "      <td>...</td>\n",
       "      <td>148.548274</td>\n",
       "      <td>0</td>\n",
       "      <td>203.558132</td>\n",
       "      <td>128</td>\n",
       "      <td>128</td>\n",
       "      <td>203.558132</td>\n",
       "      <td>371.989708</td>\n",
       "      <td>0.952714</td>\n",
       "      <td>0.612753</td>\n",
       "      <td>371.989708</td>\n",
       "    </tr>\n",
       "    <tr>\n",
       "      <th>1</th>\n",
       "      <td>1</td>\n",
       "      <td>0</td>\n",
       "      <td>255</td>\n",
       "      <td>145.020474</td>\n",
       "      <td>126.004662</td>\n",
       "      <td>-0.277543</td>\n",
       "      <td>-1.922811</td>\n",
       "      <td>255</td>\n",
       "      <td>10.291147</td>\n",
       "      <td>1327.389790</td>\n",
       "      <td>...</td>\n",
       "      <td>1327.389790</td>\n",
       "      <td>0</td>\n",
       "      <td>145.020474</td>\n",
       "      <td>128</td>\n",
       "      <td>128</td>\n",
       "      <td>145.020474</td>\n",
       "      <td>3408.680675</td>\n",
       "      <td>0.892718</td>\n",
       "      <td>0.517615</td>\n",
       "      <td>3408.680675</td>\n",
       "    </tr>\n",
       "    <tr>\n",
       "      <th>2</th>\n",
       "      <td>1</td>\n",
       "      <td>0</td>\n",
       "      <td>255</td>\n",
       "      <td>136.873236</td>\n",
       "      <td>126.928384</td>\n",
       "      <td>-0.147385</td>\n",
       "      <td>-1.978152</td>\n",
       "      <td>255</td>\n",
       "      <td>10.232555</td>\n",
       "      <td>1196.212191</td>\n",
       "      <td>...</td>\n",
       "      <td>1196.212191</td>\n",
       "      <td>0</td>\n",
       "      <td>136.873236</td>\n",
       "      <td>128</td>\n",
       "      <td>128</td>\n",
       "      <td>136.873236</td>\n",
       "      <td>2952.397860</td>\n",
       "      <td>0.908347</td>\n",
       "      <td>0.548479</td>\n",
       "      <td>2952.397860</td>\n",
       "    </tr>\n",
       "    <tr>\n",
       "      <th>3</th>\n",
       "      <td>0</td>\n",
       "      <td>120</td>\n",
       "      <td>255</td>\n",
       "      <td>220.989074</td>\n",
       "      <td>56.431372</td>\n",
       "      <td>-1.065332</td>\n",
       "      <td>-0.864294</td>\n",
       "      <td>255</td>\n",
       "      <td>10.813326</td>\n",
       "      <td>180.070087</td>\n",
       "      <td>...</td>\n",
       "      <td>180.070087</td>\n",
       "      <td>0</td>\n",
       "      <td>220.989074</td>\n",
       "      <td>128</td>\n",
       "      <td>128</td>\n",
       "      <td>220.989074</td>\n",
       "      <td>385.886749</td>\n",
       "      <td>0.939135</td>\n",
       "      <td>0.671990</td>\n",
       "      <td>385.886749</td>\n",
       "    </tr>\n",
       "    <tr>\n",
       "      <th>4</th>\n",
       "      <td>1</td>\n",
       "      <td>0</td>\n",
       "      <td>255</td>\n",
       "      <td>135.415087</td>\n",
       "      <td>126.998911</td>\n",
       "      <td>-0.124097</td>\n",
       "      <td>-1.984459</td>\n",
       "      <td>255</td>\n",
       "      <td>10.222746</td>\n",
       "      <td>1172.807492</td>\n",
       "      <td>...</td>\n",
       "      <td>1172.807492</td>\n",
       "      <td>0</td>\n",
       "      <td>135.415087</td>\n",
       "      <td>128</td>\n",
       "      <td>128</td>\n",
       "      <td>135.415087</td>\n",
       "      <td>2985.061011</td>\n",
       "      <td>0.907426</td>\n",
       "      <td>0.530004</td>\n",
       "      <td>2985.061011</td>\n",
       "    </tr>\n",
       "    <tr>\n",
       "      <th>...</th>\n",
       "      <td>...</td>\n",
       "      <td>...</td>\n",
       "      <td>...</td>\n",
       "      <td>...</td>\n",
       "      <td>...</td>\n",
       "      <td>...</td>\n",
       "      <td>...</td>\n",
       "      <td>...</td>\n",
       "      <td>...</td>\n",
       "      <td>...</td>\n",
       "      <td>...</td>\n",
       "      <td>...</td>\n",
       "      <td>...</td>\n",
       "      <td>...</td>\n",
       "      <td>...</td>\n",
       "      <td>...</td>\n",
       "      <td>...</td>\n",
       "      <td>...</td>\n",
       "      <td>...</td>\n",
       "      <td>...</td>\n",
       "      <td>...</td>\n",
       "    </tr>\n",
       "    <tr>\n",
       "      <th>4677</th>\n",
       "      <td>1</td>\n",
       "      <td>0</td>\n",
       "      <td>255</td>\n",
       "      <td>132.992858</td>\n",
       "      <td>126.755855</td>\n",
       "      <td>-0.086434</td>\n",
       "      <td>-1.992240</td>\n",
       "      <td>255</td>\n",
       "      <td>10.212401</td>\n",
       "      <td>4823.704225</td>\n",
       "      <td>...</td>\n",
       "      <td>4823.704225</td>\n",
       "      <td>0</td>\n",
       "      <td>132.992858</td>\n",
       "      <td>128</td>\n",
       "      <td>128</td>\n",
       "      <td>132.992858</td>\n",
       "      <td>12981.662196</td>\n",
       "      <td>0.595851</td>\n",
       "      <td>0.280444</td>\n",
       "      <td>12981.662196</td>\n",
       "    </tr>\n",
       "    <tr>\n",
       "      <th>4678</th>\n",
       "      <td>0</td>\n",
       "      <td>119</td>\n",
       "      <td>255</td>\n",
       "      <td>200.149819</td>\n",
       "      <td>63.100869</td>\n",
       "      <td>-0.297873</td>\n",
       "      <td>-1.909774</td>\n",
       "      <td>255</td>\n",
       "      <td>10.797601</td>\n",
       "      <td>726.003236</td>\n",
       "      <td>...</td>\n",
       "      <td>726.003236</td>\n",
       "      <td>0</td>\n",
       "      <td>200.149819</td>\n",
       "      <td>128</td>\n",
       "      <td>128</td>\n",
       "      <td>200.149819</td>\n",
       "      <td>1825.517212</td>\n",
       "      <td>0.770405</td>\n",
       "      <td>0.370028</td>\n",
       "      <td>1825.517212</td>\n",
       "    </tr>\n",
       "    <tr>\n",
       "      <th>4679</th>\n",
       "      <td>0</td>\n",
       "      <td>120</td>\n",
       "      <td>255</td>\n",
       "      <td>212.638378</td>\n",
       "      <td>60.144473</td>\n",
       "      <td>-0.722133</td>\n",
       "      <td>-1.477708</td>\n",
       "      <td>255</td>\n",
       "      <td>10.806131</td>\n",
       "      <td>230.476222</td>\n",
       "      <td>...</td>\n",
       "      <td>230.476222</td>\n",
       "      <td>0</td>\n",
       "      <td>212.638378</td>\n",
       "      <td>128</td>\n",
       "      <td>128</td>\n",
       "      <td>212.638378</td>\n",
       "      <td>597.377412</td>\n",
       "      <td>0.917062</td>\n",
       "      <td>0.621152</td>\n",
       "      <td>597.377412</td>\n",
       "    </tr>\n",
       "    <tr>\n",
       "      <th>4680</th>\n",
       "      <td>0</td>\n",
       "      <td>120</td>\n",
       "      <td>255</td>\n",
       "      <td>205.599565</td>\n",
       "      <td>61.930899</td>\n",
       "      <td>-0.482881</td>\n",
       "      <td>-1.764840</td>\n",
       "      <td>255</td>\n",
       "      <td>10.801294</td>\n",
       "      <td>1198.161099</td>\n",
       "      <td>...</td>\n",
       "      <td>1198.161099</td>\n",
       "      <td>0</td>\n",
       "      <td>205.599565</td>\n",
       "      <td>128</td>\n",
       "      <td>128</td>\n",
       "      <td>205.599565</td>\n",
       "      <td>3161.718198</td>\n",
       "      <td>0.586811</td>\n",
       "      <td>0.262579</td>\n",
       "      <td>3161.718198</td>\n",
       "    </tr>\n",
       "    <tr>\n",
       "      <th>4681</th>\n",
       "      <td>1</td>\n",
       "      <td>0</td>\n",
       "      <td>255</td>\n",
       "      <td>168.221138</td>\n",
       "      <td>120.738057</td>\n",
       "      <td>-0.674136</td>\n",
       "      <td>-1.545481</td>\n",
       "      <td>255</td>\n",
       "      <td>10.435269</td>\n",
       "      <td>332.543839</td>\n",
       "      <td>...</td>\n",
       "      <td>332.543839</td>\n",
       "      <td>0</td>\n",
       "      <td>168.221138</td>\n",
       "      <td>128</td>\n",
       "      <td>128</td>\n",
       "      <td>168.221138</td>\n",
       "      <td>898.791977</td>\n",
       "      <td>0.969237</td>\n",
       "      <td>0.685664</td>\n",
       "      <td>898.791977</td>\n",
       "    </tr>\n",
       "  </tbody>\n",
       "</table>\n",
       "<p>4682 rows × 37 columns</p>\n",
       "</div>"
      ],
      "text/plain": [
       "      labels  B_min  B_max      B_mean       B_std    B_skew  B_kurtosis  \\\n",
       "0          0    118    255  203.558132   62.681773 -0.403019   -1.837075   \n",
       "1          1      0    255  145.020474  126.004662 -0.277543   -1.922811   \n",
       "2          1      0    255  136.873236  126.928384 -0.147385   -1.978152   \n",
       "3          0    120    255  220.989074   56.431372 -1.065332   -0.864294   \n",
       "4          1      0    255  135.415087  126.998911 -0.124097   -1.984459   \n",
       "...      ...    ...    ...         ...         ...       ...         ...   \n",
       "4677       1      0    255  132.992858  126.755855 -0.086434   -1.992240   \n",
       "4678       0    119    255  200.149819   63.100869 -0.297873   -1.909774   \n",
       "4679       0    120    255  212.638378   60.144473 -0.722133   -1.477708   \n",
       "4680       0    120    255  205.599565   61.930899 -0.482881   -1.764840   \n",
       "4681       1      0    255  168.221138  120.738057 -0.674136   -1.545481   \n",
       "\n",
       "      B_mode  B_entropy     B_energy  ...     R_energy  h_mean      v_mean  \\\n",
       "0        255  10.799481   148.548274  ...   148.548274       0  203.558132   \n",
       "1        255  10.291147  1327.389790  ...  1327.389790       0  145.020474   \n",
       "2        255  10.232555  1196.212191  ...  1196.212191       0  136.873236   \n",
       "3        255  10.813326   180.070087  ...   180.070087       0  220.989074   \n",
       "4        255  10.222746  1172.807492  ...  1172.807492       0  135.415087   \n",
       "...      ...        ...          ...  ...          ...     ...         ...   \n",
       "4677     255  10.212401  4823.704225  ...  4823.704225       0  132.992858   \n",
       "4678     255  10.797601   726.003236  ...   726.003236       0  200.149819   \n",
       "4679     255  10.806131   230.476222  ...   230.476222       0  212.638378   \n",
       "4680     255  10.801294  1198.161099  ...  1198.161099       0  205.599565   \n",
       "4681     255  10.435269   332.543839  ...   332.543839       0  168.221138   \n",
       "\n",
       "      cb_mean  cr_mean   gray_mean      contrast  correlation    energy  \\\n",
       "0         128      128  203.558132    371.989708     0.952714  0.612753   \n",
       "1         128      128  145.020474   3408.680675     0.892718  0.517615   \n",
       "2         128      128  136.873236   2952.397860     0.908347  0.548479   \n",
       "3         128      128  220.989074    385.886749     0.939135  0.671990   \n",
       "4         128      128  135.415087   2985.061011     0.907426  0.530004   \n",
       "...       ...      ...         ...           ...          ...       ...   \n",
       "4677      128      128  132.992858  12981.662196     0.595851  0.280444   \n",
       "4678      128      128  200.149819   1825.517212     0.770405  0.370028   \n",
       "4679      128      128  212.638378    597.377412     0.917062  0.621152   \n",
       "4680      128      128  205.599565   3161.718198     0.586811  0.262579   \n",
       "4681      128      128  168.221138    898.791977     0.969237  0.685664   \n",
       "\n",
       "       homogeneity  \n",
       "0       371.989708  \n",
       "1      3408.680675  \n",
       "2      2952.397860  \n",
       "3       385.886749  \n",
       "4      2985.061011  \n",
       "...            ...  \n",
       "4677  12981.662196  \n",
       "4678   1825.517212  \n",
       "4679    597.377412  \n",
       "4680   3161.718198  \n",
       "4681    898.791977  \n",
       "\n",
       "[4682 rows x 37 columns]"
      ]
     },
     "execution_count": 3,
     "metadata": {},
     "output_type": "execute_result"
    }
   ],
   "source": [
    "df"
   ]
  },
  {
   "cell_type": "code",
   "execution_count": 4,
   "metadata": {},
   "outputs": [],
   "source": [
    "X = np.array(df.iloc[:,1:])\n",
    "y = np.array(df.labels)"
   ]
  },
  {
   "cell_type": "code",
   "execution_count": 5,
   "metadata": {},
   "outputs": [
    {
     "name": "stdout",
     "output_type": "stream",
     "text": [
      "X_train:  (3511, 36)\n",
      "X_test:  (1171, 36)\n",
      "y_train:  (3511,)\n",
      "y_test:  (1171,)\n"
     ]
    }
   ],
   "source": [
    "X_train, X_test, y_train, y_test = train_test_split(X, y, test_size = 0.25, random_state = 42)\n",
    "print(\"X_train: \", X_train.shape)\n",
    "print(\"X_test: \", X_test.shape)\n",
    "print(\"y_train: \", y_train.shape)\n",
    "print(\"y_test: \", y_test.shape)"
   ]
  },
  {
   "cell_type": "code",
   "execution_count": 6,
   "metadata": {},
   "outputs": [],
   "source": [
    "from sklearn.preprocessing import StandardScaler\n",
    "sc = StandardScaler()\n",
    "X_train = sc.fit_transform(X_train)\n",
    "X_test = sc.transform(X_test)"
   ]
  },
  {
   "cell_type": "code",
   "execution_count": 7,
   "metadata": {},
   "outputs": [],
   "source": [
    "#KNN\n",
    "from sklearn .neighbors import KNeighborsClassifier \n",
    "#kn = KNeighborsClassifier(n_neighbors =5)\n",
    "kn = KNeighborsClassifier(n_neighbors =11)\n",
    "kn.fit(X_train,y_train)\n",
    "y_pred = kn.predict(X_test)\n",
    "#print(Y_pred)"
   ]
  },
  {
   "cell_type": "code",
   "execution_count": 8,
   "metadata": {},
   "outputs": [
    {
     "name": "stdout",
     "output_type": "stream",
     "text": [
      "accuracy_score: 0.9991460290350128\n"
     ]
    }
   ],
   "source": [
    "# Accuracy\n",
    "from sklearn.metrics import accuracy_score\n",
    "#from sklearn.metrics import average_precision_score\n",
    "print(\"accuracy_score:\",format(accuracy_score(y_test, y_pred)))\n",
    "#print(\"Cancer data set dimensions: {}\".format(df.shape))"
   ]
  },
  {
   "cell_type": "code",
   "execution_count": 9,
   "metadata": {},
   "outputs": [
    {
     "name": "stdout",
     "output_type": "stream",
     "text": [
      "confusion matrix: \n",
      "[[602   1]\n",
      " [  0 568]]\n",
      "accuracy score:0.9991460290350128\n"
     ]
    }
   ],
   "source": [
    "from sklearn.metrics import confusion_matrix\n",
    "cm_knn = confusion_matrix(y_test, y_pred)\n",
    "print(\"confusion matrix: \\n{}\".format(cm_knn))\n",
    "\n",
    "from sklearn.metrics import accuracy_score\n",
    "print(\"accuracy score:{}\".format(accuracy_score(y_test, y_pred))) \n"
   ]
  },
  {
   "cell_type": "code",
   "execution_count": 10,
   "metadata": {},
   "outputs": [
    {
     "data": {
      "text/plain": [
       "(99.91460290350128, 99.83416252072969, 100.0, 99.82425307557118)"
      ]
     },
     "execution_count": 10,
     "metadata": {},
     "output_type": "execute_result"
    }
   ],
   "source": [
    "(602+568)*100/(602+1+568), 602*100/(602+1), 602*100/(602+0), 568*100/(568+1)"
   ]
  },
  {
   "cell_type": "code",
   "execution_count": 12,
   "metadata": {},
   "outputs": [
    {
     "data": {
      "image/png": "[encoded data removed]",
      "text/plain": [
       "<Figure size 432x288 with 1 Axes>"
      ]
     },
     "metadata": {
      "needs_background": "light"
     },
     "output_type": "display_data"
    }
   ],
   "source": [
    "#ROC curve\n",
    "from sklearn.metrics import plot_roc_curve\n",
    "%matplotlib inline\n",
    "svc_disp = plot_roc_curve(kn, X_test, y_test)\n",
    "plt.show()"
   ]
  },
  {
   "cell_type": "code",
   "execution_count": 13,
   "metadata": {},
   "outputs": [
    {
     "name": "stdout",
     "output_type": "stream",
     "text": [
      "scores:[0.99039488 0.99039488 0.9957265  0.99252137 0.98931624]\n",
      "scores_mean: 0.991670771419971\n"
     ]
    }
   ],
   "source": [
    "# K-folder cross validation\n",
    "from sklearn.model_selection import cross_val_score\n",
    "\n",
    "# Use the same model as before\n",
    "kn = KNeighborsClassifier(n_neighbors = 5)\n",
    "\n",
    "# X,y will automatically devided by 5 folder\n",
    "scores = cross_val_score(kn, X, y, cv=5, scoring='accuracy')\n",
    "\n",
    "# print all 5 times scores\n",
    "print(\"scores:{}\".format(scores))\n",
    "\n",
    "# average these five scores to get accuracy score\n",
    "print(\"scores_mean: {}\".format(scores.mean()))\n"
   ]
  },
  {
   "cell_type": "code",
   "execution_count": 14,
   "metadata": {},
   "outputs": [
    {
     "data": {
      "text/plain": [
       "GridSearchCV(cv=10, error_score=nan,\n",
       "             estimator=KNeighborsClassifier(algorithm='auto', leaf_size=30,\n",
       "                                            metric='minkowski',\n",
       "                                            metric_params=None, n_jobs=None,\n",
       "                                            n_neighbors=5, p=2,\n",
       "                                            weights='uniform'),\n",
       "             iid='deprecated', n_jobs=None,\n",
       "             param_grid={'n_neighbors': [1, 2, 3, 4, 5, 6, 7, 8, 9, 10, 11, 12,\n",
       "                                         13, 14, 15, 16, 17, 18, 19, 20, 21, 22,\n",
       "                                         23, 24, 25, 26, 27, 28, 29, 30]},\n",
       "             pre_dispatch='2*n_jobs', refit=True, return_train_score=False,\n",
       "             scoring='accuracy', verbose=0)"
      ]
     },
     "execution_count": 14,
     "metadata": {},
     "output_type": "execute_result"
    }
   ],
   "source": [
    "from sklearn.model_selection import GridSearchCV\n",
    "k_range = list(range(1, 31))\n",
    "#print(k_range)\n",
    "param_grid = dict(n_neighbors=k_range)\n",
    "#print(param_grid)\n",
    "grid = GridSearchCV(kn, param_grid, cv=10, scoring='accuracy')\n",
    "grid.fit(X,y)"
   ]
  },
  {
   "cell_type": "code",
   "execution_count": 15,
   "metadata": {},
   "outputs": [
    {
     "data": {
      "text/plain": [
       "dict_keys(['mean_fit_time', 'std_fit_time', 'mean_score_time', 'std_score_time', 'param_n_neighbors', 'params', 'split0_test_score', 'split1_test_score', 'split2_test_score', 'split3_test_score', 'split4_test_score', 'split5_test_score', 'split6_test_score', 'split7_test_score', 'split8_test_score', 'split9_test_score', 'mean_test_score', 'std_test_score', 'rank_test_score'])"
      ]
     },
     "execution_count": 15,
     "metadata": {},
     "output_type": "execute_result"
    }
   ],
   "source": [
    "grid.cv_results_.keys()"
   ]
  },
  {
   "cell_type": "code",
   "execution_count": 16,
   "metadata": {},
   "outputs": [
    {
     "name": "stdout",
     "output_type": "stream",
     "text": [
      "0.997008547008547\n",
      "{'n_neighbors': 2}\n",
      "KNeighborsClassifier(algorithm='auto', leaf_size=30, metric='minkowski',\n",
      "                     metric_params=None, n_jobs=None, n_neighbors=2, p=2,\n",
      "                     weights='uniform')\n"
     ]
    }
   ],
   "source": [
    "print(grid.best_score_)\n",
    "print(grid.best_params_)\n",
    "print(grid.best_estimator_)"
   ]
  },
  {
   "cell_type": "code",
   "execution_count": null,
   "metadata": {},
   "outputs": [],
   "source": []
  }
 ],
 "metadata": {
  "kernelspec": {
   "display_name": "Python 3",
   "language": "python",
   "name": "python3"
  },
  "language_info": {
   "codemirror_mode": {
    "name": "ipython",
    "version": 3
   },
   "file_extension": ".py",
   "mimetype": "text/x-python",
   "name": "python",
   "nbconvert_exporter": "python",
   "pygments_lexer": "ipython3",
   "version": "3.6.9"
  }
 },
 "nbformat": 4,
 "nbformat_minor": 4
}
